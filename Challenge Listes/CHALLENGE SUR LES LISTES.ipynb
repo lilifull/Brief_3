{
 "cells": [
  {
   "cell_type": "markdown",
   "id": "ff0767b9",
   "metadata": {},
   "source": [
    "## CHALLENGE SUR LES LISTES"
   ]
  },
  {
   "cell_type": "markdown",
   "id": "19c83b1d",
   "metadata": {},
   "source": [
    "**1 -  Créer une liste  nommée     «   prix_de_58_maisons »   contenant des prix  de 58 maisons entre 125 000 et 700 000**"
   ]
  },
  {
   "cell_type": "code",
   "execution_count": 20,
   "id": "f38922f9",
   "metadata": {},
   "outputs": [],
   "source": [
    "from random import randint"
   ]
  },
  {
   "cell_type": "code",
   "execution_count": 21,
   "id": "a4f09d93",
   "metadata": {},
   "outputs": [
    {
     "name": "stdout",
     "output_type": "stream",
     "text": [
      "Liste de prix de 58 maisons : [429040, 500779, 177567, 484135, 270156, 699078, 223780, 363932, 543691, 461745, 284089, 571732, 399624, 663941, 164346, 411904, 197609, 270129, 165232, 220217, 687293, 501942, 562685, 680747, 545734, 608203, 527417, 691552, 684885, 454685, 223042, 325819, 564504, 147518, 297543, 532859, 336416, 377736, 214291, 616221, 425222, 620644, 225442, 343973, 484032, 410085, 158921, 551252, 343254, 304495, 387642, 688857, 205579, 311986, 685205, 508077, 159766, 135855]\n"
     ]
    }
   ],
   "source": [
    "#Création d'une liste de prix de 58 maisons alétoirement avec la méthode randint().\n",
    "prix_de_58_maisons = []\n",
    "for i in range(0,58):\n",
    "    n = randint(125000,700000)\n",
    "    prix_de_58_maisons.append(n)\n",
    "    \n",
    "print('Liste de prix de 58 maisons :', prix_de_58_maisons)"
   ]
  },
  {
   "cell_type": "code",
   "execution_count": 22,
   "id": "c5506900",
   "metadata": {},
   "outputs": [
    {
     "name": "stdout",
     "output_type": "stream",
     "text": [
      "Vérification du nombre de prix dans la liste : 58\n"
     ]
    }
   ],
   "source": [
    "print('Vérification du nombre de prix dans la liste :',len(prix_de_58_maisons))"
   ]
  },
  {
   "cell_type": "markdown",
   "id": "a71f1f9a",
   "metadata": {},
   "source": [
    "**2 – Combien de maisons ont un prix supérieur ou égal à 300 0000 euros ?**"
   ]
  },
  {
   "cell_type": "code",
   "execution_count": 23,
   "id": "d85829f9",
   "metadata": {},
   "outputs": [
    {
     "name": "stdout",
     "output_type": "stream",
     "text": [
      "Nombre de maisons avec un prix supérieur à 300 000 euros : 40\n"
     ]
    }
   ],
   "source": [
    "# Solution 1 avec map()\n",
    "# The map() function executes a specified function for each item in an iterable. The item is sent to the function as a parameter.\n",
    "count_house_sup300K = sum(map(lambda x : x >= 300000, prix_de_58_maisons))\n",
    "print('Nombre de maisons avec un prix supérieur à 300 000 euros :',count_house_sup300K)"
   ]
  },
  {
   "cell_type": "code",
   "execution_count": 24,
   "id": "d77028d8",
   "metadata": {},
   "outputs": [
    {
     "name": "stdout",
     "output_type": "stream",
     "text": [
      "Nombre de maisons avec un prix supérieur à 300 000 euros : 40\n"
     ]
    }
   ],
   "source": [
    "#Solution 2 avec list comprehension\n",
    "#List comprehension offers a shorter syntax when you want to create a new list based on the values of an existing list.\n",
    "count_house_sup300K_2 = len([elem for elem in prix_de_58_maisons if elem >= 300000])\n",
    "print('Nombre de maisons avec un prix supérieur à 300 000 euros :',count_house_sup300K)"
   ]
  },
  {
   "cell_type": "markdown",
   "id": "f6d2b50b",
   "metadata": {},
   "source": [
    "**3 – Combien de maisons ont un prix compris entre 250 000 et 400 000 euros ?**"
   ]
  },
  {
   "cell_type": "code",
   "execution_count": 25,
   "id": "6e61a99a",
   "metadata": {},
   "outputs": [
    {
     "name": "stdout",
     "output_type": "stream",
     "text": [
      "Nombre de maisons avec un prix entre 250 000 et 400 000 euros : 14\n"
     ]
    }
   ],
   "source": [
    "#Solution 1\n",
    "count_house_bet250K_400K = sum(map(lambda x : x >= 250000 and x <= 400000  , prix_de_58_maisons))\n",
    "print('Nombre de maisons avec un prix entre 250 000 et 400 000 euros :', count_house_bet250K_400K)"
   ]
  },
  {
   "cell_type": "code",
   "execution_count": 26,
   "id": "afb072ac",
   "metadata": {},
   "outputs": [
    {
     "name": "stdout",
     "output_type": "stream",
     "text": [
      "Nombre de maisons avec un prix entre 250 000 et 400 000 euros : 14\n"
     ]
    }
   ],
   "source": [
    "#Solution 2\n",
    "count_house_bet250K_400K_2 = len([elem for elem in prix_de_58_maisons if elem >= 250000 and elem <= 400000])\n",
    "print('Nombre de maisons avec un prix entre 250 000 et 400 000 euros :',count_house_bet250K_400K_2)"
   ]
  },
  {
   "cell_type": "markdown",
   "id": "6a9d3bac",
   "metadata": {},
   "source": [
    "**4 –Combien de maisons ont un prix qui n’est pas supérieur à 600 000 euros ?** "
   ]
  },
  {
   "cell_type": "code",
   "execution_count": 27,
   "id": "ea1aa2e4",
   "metadata": {},
   "outputs": [
    {
     "name": "stdout",
     "output_type": "stream",
     "text": [
      "Nombre de maisons avec un prix en dessous de 600 000 euros : 47\n"
     ]
    }
   ],
   "source": [
    "count_house_inf_600K = len([elem for elem in prix_de_58_maisons if elem < 600000])\n",
    "print('Nombre de maisons avec un prix en dessous de 600 000 euros :',count_house_inf_600K)"
   ]
  },
  {
   "cell_type": "markdown",
   "id": "8fa431aa",
   "metadata": {},
   "source": [
    "**5 – Combien de maisons ont un prix inférieur à 150 000 euros ou supérieur à 650 000 euros ?**\n"
   ]
  },
  {
   "cell_type": "code",
   "execution_count": 28,
   "id": "03f058c5",
   "metadata": {},
   "outputs": [
    {
     "name": "stdout",
     "output_type": "stream",
     "text": [
      "Nombre de maisons avec un prix en dessous de 150 000 euros et au dessus de 650 000 euros: 10\n"
     ]
    }
   ],
   "source": [
    "count_house_inf_150K_sup_650k = len([elem for elem in prix_de_58_maisons if elem < 150000 or elem > 650000])\n",
    "print('Nombre de maisons avec un prix en dessous de 150 000 euros et au dessus de 650 000 euros:', count_house_inf_150K_sup_650k)"
   ]
  },
  {
   "cell_type": "code",
   "execution_count": null,
   "id": "cd4e43c7",
   "metadata": {},
   "outputs": [],
   "source": []
  }
 ],
 "metadata": {
  "kernelspec": {
   "display_name": "Python 3 (ipykernel)",
   "language": "python",
   "name": "python3"
  },
  "language_info": {
   "codemirror_mode": {
    "name": "ipython",
    "version": 3
   },
   "file_extension": ".py",
   "mimetype": "text/x-python",
   "name": "python",
   "nbconvert_exporter": "python",
   "pygments_lexer": "ipython3",
   "version": "3.9.12"
  }
 },
 "nbformat": 4,
 "nbformat_minor": 5
}
