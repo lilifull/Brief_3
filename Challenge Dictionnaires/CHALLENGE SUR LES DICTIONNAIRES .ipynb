{
 "cells": [
  {
   "cell_type": "markdown",
   "id": "81923fda",
   "metadata": {},
   "source": [
    "## Challenge sur les dictionnaires"
   ]
  },
  {
   "cell_type": "markdown",
   "id": "913aea46",
   "metadata": {},
   "source": [
    "Objectif : Manipuler un dictionnaire contenant le nombre de ventes mensuelles de 15 commerciaux"
   ]
  },
  {
   "cell_type": "markdown",
   "id": "138ba1df",
   "metadata": {},
   "source": [
    "1 -  Créer un dictionnaire nommé ventes_commerciaux contenant les ventes suivantes :\n",
    "Marie:15; Samuel:17;  Gaston:12;  Fred:10; Mae:5;  Julie:15; Zoe:7; Claire:20; Chloe:8; Julien:14;Gael:9; Samia:15; Omar:11; Gabriel:16; Manon: 2\n"
   ]
  },
  {
   "cell_type": "code",
   "execution_count": 1,
   "id": "e04a0bf6",
   "metadata": {},
   "outputs": [],
   "source": [
    "import statistics"
   ]
  },
  {
   "cell_type": "code",
   "execution_count": 2,
   "id": "f9b58d43",
   "metadata": {},
   "outputs": [],
   "source": [
    "ventes_commerciaux = {\n",
    "    \"Marie\":15,\n",
    "    \"Samuel\":17, \n",
    "    \"Gaston\":12, \n",
    "    \"Fred\":10, \n",
    "    \"Mae\":5,\n",
    "    \"Julie\":15,\n",
    "    \"Zoe\":7, \n",
    "    \"Claire\":20, \n",
    "    \"Chloe\":8,\n",
    "    \"Julien\":14,\n",
    "    \"Gael\":9,\n",
    "    \"Samia\":15,\n",
    "    \"Omar\":11,\n",
    "    \"Gabriel\":16,\n",
    "    \"Manon\": 2\n",
    "}"
   ]
  },
  {
   "cell_type": "markdown",
   "id": "37ad1fcd",
   "metadata": {},
   "source": [
    "2 – Quelle est la moyenne des ventes ? \n",
    "  Astuce : utiliser la fonction ( méthode )  values () d’un dictionnaire qui retourne les valeurs stockées dans le dictionnaire "
   ]
  },
  {
   "cell_type": "code",
   "execution_count": 3,
   "id": "3a3b7dc4",
   "metadata": {},
   "outputs": [
    {
     "name": "stdout",
     "output_type": "stream",
     "text": [
      "Moyenne des ventes : 11.73\n"
     ]
    }
   ],
   "source": [
    "average_sales = statistics.mean(list(ventes_commerciaux.values()))\n",
    "print('Moyenne des ventes :',round(average_sales,2))"
   ]
  },
  {
   "cell_type": "markdown",
   "id": "5448047a",
   "metadata": {},
   "source": [
    "3 – Afficher le nombre total de vendeurs"
   ]
  },
  {
   "cell_type": "code",
   "execution_count": 4,
   "id": "3aaf8ac3",
   "metadata": {},
   "outputs": [
    {
     "name": "stdout",
     "output_type": "stream",
     "text": [
      "Nombre de vendeurs : 15\n"
     ]
    }
   ],
   "source": [
    "salespeople_nb = len(ventes_commerciaux.keys())\n",
    "print('Nombre de vendeurs :', salespeople_nb) "
   ]
  },
  {
   "cell_type": "markdown",
   "id": "95ef24ff",
   "metadata": {},
   "source": [
    "4 – Combien de commerciaux ont un nombre de ventes strictement supérieur à la moyenne ?\n",
    "Astuce: utiliser la fonction ( méthode)  items() d’ un dictionnaire pour récupérer \n",
    "les clés et les valeurs en même temps   "
   ]
  },
  {
   "cell_type": "code",
   "execution_count": 5,
   "id": "e5a6c48a",
   "metadata": {},
   "outputs": [
    {
     "data": {
      "text/plain": [
       "dict_items([('Marie', 15), ('Samuel', 17), ('Gaston', 12), ('Fred', 10), ('Mae', 5), ('Julie', 15), ('Zoe', 7), ('Claire', 20), ('Chloe', 8), ('Julien', 14), ('Gael', 9), ('Samia', 15), ('Omar', 11), ('Gabriel', 16), ('Manon', 2)])"
      ]
     },
     "execution_count": 5,
     "metadata": {},
     "output_type": "execute_result"
    }
   ],
   "source": [
    "#Visualisation des ventes par commerciaux\n",
    "ventes_commerciaux.items()"
   ]
  },
  {
   "cell_type": "code",
   "execution_count": 6,
   "id": "17bb0487",
   "metadata": {},
   "outputs": [
    {
     "name": "stdout",
     "output_type": "stream",
     "text": [
      "Nombre de commerciaux ayant des ventes strictement suppérieur à la moyenne : 8\n"
     ]
    }
   ],
   "source": [
    "#Comptage des commerciaux avec un nombre de vente strictement supérieur à la moyenne\n",
    "print('Nombre de commerciaux ayant des ventes strictement suppérieur à la moyenne :'\n",
    "      ,len([ventes_commerciaux[i] for i in ventes_commerciaux if ventes_commerciaux[i] > average_sales]))"
   ]
  },
  {
   "cell_type": "markdown",
   "id": "45e544ea",
   "metadata": {},
   "source": [
    "5 – Quel est le prénom du meilleur vendeur ?  \n",
    "Astuce: utiliser la fonction ( méthode )  keys() d’ un dictionnaire pour récupérer les clés\n",
    "d’un dictionnaire "
   ]
  },
  {
   "cell_type": "code",
   "execution_count": 7,
   "id": "032d17a2",
   "metadata": {},
   "outputs": [
    {
     "name": "stdout",
     "output_type": "stream",
     "text": [
      "Prénom du meilleur vendeur : Claire\n"
     ]
    }
   ],
   "source": [
    "#Affichage du meilleur vendeur en fonction des ventes\n",
    "best_seller = max(ventes_commerciaux, key=ventes_commerciaux.get)\n",
    "print(\"Prénom du meilleur vendeur :\",best_seller)"
   ]
  },
  {
   "cell_type": "markdown",
   "id": "3d1417a2",
   "metadata": {},
   "source": [
    "6 – Combien de vendeurs ont un prénom  avec strictement moins de 4 lettres?"
   ]
  },
  {
   "cell_type": "code",
   "execution_count": 11,
   "id": "fc25b30e",
   "metadata": {},
   "outputs": [
    {
     "name": "stdout",
     "output_type": "stream",
     "text": [
      "Nombre de vendeurs avec un prénom de moins de 4 lettres :  2\n"
     ]
    }
   ],
   "source": [
    "print('Nombre de vendeurs avec un prénom de moins de 4 lettres : '\n",
    "      ,len([ventes_commerciaux[i] for i in ventes_commerciaux if len(i) < 4]))"
   ]
  },
  {
   "cell_type": "markdown",
   "id": "47493193",
   "metadata": {},
   "source": [
    "7 – Afficher le prénom des vendeurs qui ont un nombre de ventes pair  ( multiple de 2 )"
   ]
  },
  {
   "cell_type": "code",
   "execution_count": 12,
   "id": "35b58afc",
   "metadata": {},
   "outputs": [
    {
     "name": "stdout",
     "output_type": "stream",
     "text": [
      "['Gaston', 'Fred', 'Claire', 'Chloe', 'Julien', 'Gabriel', 'Manon']\n"
     ]
    }
   ],
   "source": [
    "#Liste des prénoms de vendeurs avec un nombre de ventes pair\n",
    "sale_pair = [i for i in ventes_commerciaux if ventes_commerciaux[i]% 2== 0]\n",
    "print(sale_pair)"
   ]
  },
  {
   "cell_type": "code",
   "execution_count": 10,
   "id": "603ece87",
   "metadata": {},
   "outputs": [
    {
     "name": "stdout",
     "output_type": "stream",
     "text": [
      "Prénom de vendeurs avec un nombre de ventes pair:  Gaston, Fred, Claire, Chloe, Julien, Gabriel, Manon\n"
     ]
    }
   ],
   "source": [
    "print('Prénom de vendeurs avec un nombre de ventes pair: ',\", \".join(sale_pair))"
   ]
  }
 ],
 "metadata": {
  "kernelspec": {
   "display_name": "Python 3 (ipykernel)",
   "language": "python",
   "name": "python3"
  },
  "language_info": {
   "codemirror_mode": {
    "name": "ipython",
    "version": 3
   },
   "file_extension": ".py",
   "mimetype": "text/x-python",
   "name": "python",
   "nbconvert_exporter": "python",
   "pygments_lexer": "ipython3",
   "version": "3.9.12"
  }
 },
 "nbformat": 4,
 "nbformat_minor": 5
}
