{
 "cells": [
  {
   "cell_type": "markdown",
   "id": "d3dd8f3c",
   "metadata": {},
   "source": [
    "## Challenge sur les DataFrames"
   ]
  },
  {
   "cell_type": "markdown",
   "id": "b3a0847c",
   "metadata": {},
   "source": [
    "Ojectif : Etudier le marché Android via le Google Play Store"
   ]
  },
  {
   "cell_type": "markdown",
   "id": "37975a1c",
   "metadata": {},
   "source": [
    "**1 – Lire le fichier googleplaystore_1.csv et stocker les valeurs dans un dataframe\n",
    "avec pour nom  df_google_ap_1**"
   ]
  },
  {
   "cell_type": "code",
   "execution_count": 1,
   "id": "e8b89b78",
   "metadata": {},
   "outputs": [],
   "source": [
    "import pandas as pd\n",
    "import numpy as np\n",
    "df_google_ap_1 = pd.read_csv(\"googleplaystore_1.csv\", delimiter = ';')"
   ]
  },
  {
   "cell_type": "code",
   "execution_count": 2,
   "id": "8112f10e",
   "metadata": {},
   "outputs": [
    {
     "data": {
      "text/html": [
       "<div>\n",
       "<style scoped>\n",
       "    .dataframe tbody tr th:only-of-type {\n",
       "        vertical-align: middle;\n",
       "    }\n",
       "\n",
       "    .dataframe tbody tr th {\n",
       "        vertical-align: top;\n",
       "    }\n",
       "\n",
       "    .dataframe thead th {\n",
       "        text-align: right;\n",
       "    }\n",
       "</style>\n",
       "<table border=\"1\" class=\"dataframe\">\n",
       "  <thead>\n",
       "    <tr style=\"text-align: right;\">\n",
       "      <th></th>\n",
       "      <th>App</th>\n",
       "      <th>Category</th>\n",
       "      <th>Rating</th>\n",
       "      <th>Reviews</th>\n",
       "      <th>Size</th>\n",
       "      <th>Installs</th>\n",
       "      <th>Type</th>\n",
       "      <th>Price</th>\n",
       "      <th>Content Rating</th>\n",
       "      <th>Genres</th>\n",
       "      <th>Last Updated</th>\n",
       "      <th>Current Ver</th>\n",
       "      <th>Android Ver</th>\n",
       "    </tr>\n",
       "  </thead>\n",
       "  <tbody>\n",
       "    <tr>\n",
       "      <th>0</th>\n",
       "      <td>Photo Editor &amp; Candy Camera &amp; Grid &amp; ScrapBook</td>\n",
       "      <td>ART_AND_DESIGN</td>\n",
       "      <td>4.1</td>\n",
       "      <td>159.0</td>\n",
       "      <td>19M</td>\n",
       "      <td>10,000+</td>\n",
       "      <td>Free</td>\n",
       "      <td>0</td>\n",
       "      <td>Everyone</td>\n",
       "      <td>Art &amp; Design</td>\n",
       "      <td>January 7, 2018</td>\n",
       "      <td>1.0.0</td>\n",
       "      <td>4.0.3 and up</td>\n",
       "    </tr>\n",
       "    <tr>\n",
       "      <th>1</th>\n",
       "      <td>Coloring book moana</td>\n",
       "      <td>ART_AND_DESIGN</td>\n",
       "      <td>3.9</td>\n",
       "      <td>967.0</td>\n",
       "      <td>14M</td>\n",
       "      <td>500,000+</td>\n",
       "      <td>Free</td>\n",
       "      <td>0</td>\n",
       "      <td>Everyone</td>\n",
       "      <td>Art &amp; Design</td>\n",
       "      <td>NaN</td>\n",
       "      <td>NaN</td>\n",
       "      <td>NaN</td>\n",
       "    </tr>\n",
       "    <tr>\n",
       "      <th>2</th>\n",
       "      <td>Sketch - Draw &amp; Paint</td>\n",
       "      <td>ART_AND_DESIGN</td>\n",
       "      <td>4.5</td>\n",
       "      <td>215644.0</td>\n",
       "      <td>25M</td>\n",
       "      <td>50,000,000+</td>\n",
       "      <td>Free</td>\n",
       "      <td>0</td>\n",
       "      <td>Teen</td>\n",
       "      <td>Art &amp; Design</td>\n",
       "      <td>June 8, 2018</td>\n",
       "      <td>Varies with device</td>\n",
       "      <td>4.2 and up</td>\n",
       "    </tr>\n",
       "    <tr>\n",
       "      <th>3</th>\n",
       "      <td>Pixel Draw - Number Art Coloring Book</td>\n",
       "      <td>ART_AND_DESIGN</td>\n",
       "      <td>4.3</td>\n",
       "      <td>967.0</td>\n",
       "      <td>2.8M</td>\n",
       "      <td>100,000+</td>\n",
       "      <td>Free</td>\n",
       "      <td>0</td>\n",
       "      <td>Everyone</td>\n",
       "      <td>Art &amp; Design</td>\n",
       "      <td>NaN</td>\n",
       "      <td>NaN</td>\n",
       "      <td>NaN</td>\n",
       "    </tr>\n",
       "    <tr>\n",
       "      <th>4</th>\n",
       "      <td>Paper flowers instructions</td>\n",
       "      <td>ART_AND_DESIGN</td>\n",
       "      <td>4.4</td>\n",
       "      <td>167.0</td>\n",
       "      <td>5.6M</td>\n",
       "      <td>50,000+</td>\n",
       "      <td>Free</td>\n",
       "      <td>0</td>\n",
       "      <td>Everyone</td>\n",
       "      <td>Art &amp; Design</td>\n",
       "      <td>March 26, 2017</td>\n",
       "      <td>1.0</td>\n",
       "      <td>2.3 and up</td>\n",
       "    </tr>\n",
       "    <tr>\n",
       "      <th>...</th>\n",
       "      <td>...</td>\n",
       "      <td>...</td>\n",
       "      <td>...</td>\n",
       "      <td>...</td>\n",
       "      <td>...</td>\n",
       "      <td>...</td>\n",
       "      <td>...</td>\n",
       "      <td>...</td>\n",
       "      <td>...</td>\n",
       "      <td>...</td>\n",
       "      <td>...</td>\n",
       "      <td>...</td>\n",
       "      <td>...</td>\n",
       "    </tr>\n",
       "    <tr>\n",
       "      <th>495</th>\n",
       "      <td>BBWCupid - BBW Dating App</td>\n",
       "      <td>DATING</td>\n",
       "      <td>3.5</td>\n",
       "      <td>241.0</td>\n",
       "      <td>2.8M</td>\n",
       "      <td>50,000+</td>\n",
       "      <td>Free</td>\n",
       "      <td>0</td>\n",
       "      <td>Mature 17+</td>\n",
       "      <td>Dating</td>\n",
       "      <td>June 1, 2018</td>\n",
       "      <td>2.2.0.1748</td>\n",
       "      <td>5.0 and up</td>\n",
       "    </tr>\n",
       "    <tr>\n",
       "      <th>496</th>\n",
       "      <td>ChatVideo Meet new people</td>\n",
       "      <td>DATING</td>\n",
       "      <td>4.2</td>\n",
       "      <td>63986.0</td>\n",
       "      <td>20M</td>\n",
       "      <td>5,000,000+</td>\n",
       "      <td>Free</td>\n",
       "      <td>0</td>\n",
       "      <td>Mature 17+</td>\n",
       "      <td>Dating</td>\n",
       "      <td>May 31, 2018</td>\n",
       "      <td>3.0.15</td>\n",
       "      <td>4.0 and up</td>\n",
       "    </tr>\n",
       "    <tr>\n",
       "      <th>497</th>\n",
       "      <td>Black White Interracial Dating - Interracial M...</td>\n",
       "      <td>DATING</td>\n",
       "      <td>4.1</td>\n",
       "      <td>535.0</td>\n",
       "      <td>28M</td>\n",
       "      <td>100,000+</td>\n",
       "      <td>Free</td>\n",
       "      <td>0</td>\n",
       "      <td>Mature 17+</td>\n",
       "      <td>Dating</td>\n",
       "      <td>March 29, 2018</td>\n",
       "      <td>2.0.0</td>\n",
       "      <td>4.1 and up</td>\n",
       "    </tr>\n",
       "    <tr>\n",
       "      <th>498</th>\n",
       "      <td>FlirtChat - ♥Free Dating/Flirting App♥</td>\n",
       "      <td>DATING</td>\n",
       "      <td>4.3</td>\n",
       "      <td>2430.0</td>\n",
       "      <td>13M</td>\n",
       "      <td>500,000+</td>\n",
       "      <td>Free</td>\n",
       "      <td>0</td>\n",
       "      <td>Mature 17+</td>\n",
       "      <td>Dating</td>\n",
       "      <td>July 26, 2018</td>\n",
       "      <td>12.0.4</td>\n",
       "      <td>4.1 and up</td>\n",
       "    </tr>\n",
       "    <tr>\n",
       "      <th>499</th>\n",
       "      <td>OkCupid Dating</td>\n",
       "      <td>DATING</td>\n",
       "      <td>4.1</td>\n",
       "      <td>285726.0</td>\n",
       "      <td>15M</td>\n",
       "      <td>10,000,000+</td>\n",
       "      <td>Free</td>\n",
       "      <td>0</td>\n",
       "      <td>Mature 17+</td>\n",
       "      <td>Dating</td>\n",
       "      <td>July 30, 2018</td>\n",
       "      <td>11.10.1</td>\n",
       "      <td>4.1 and up</td>\n",
       "    </tr>\n",
       "  </tbody>\n",
       "</table>\n",
       "<p>500 rows × 13 columns</p>\n",
       "</div>"
      ],
      "text/plain": [
       "                                                   App        Category Rating  \\\n",
       "0       Photo Editor & Candy Camera & Grid & ScrapBook  ART_AND_DESIGN    4.1   \n",
       "1                                  Coloring book moana  ART_AND_DESIGN    3.9   \n",
       "2                                Sketch - Draw & Paint  ART_AND_DESIGN    4.5   \n",
       "3                Pixel Draw - Number Art Coloring Book  ART_AND_DESIGN    4.3   \n",
       "4                           Paper flowers instructions  ART_AND_DESIGN    4.4   \n",
       "..                                                 ...             ...    ...   \n",
       "495                          BBWCupid - BBW Dating App          DATING    3.5   \n",
       "496                          ChatVideo Meet new people          DATING    4.2   \n",
       "497  Black White Interracial Dating - Interracial M...          DATING    4.1   \n",
       "498             FlirtChat - ♥Free Dating/Flirting App♥          DATING    4.3   \n",
       "499                                     OkCupid Dating          DATING    4.1   \n",
       "\n",
       "      Reviews  Size     Installs  Type Price Content Rating        Genres  \\\n",
       "0       159.0   19M      10,000+  Free     0       Everyone  Art & Design   \n",
       "1       967.0   14M     500,000+  Free     0       Everyone  Art & Design   \n",
       "2    215644.0   25M  50,000,000+  Free     0           Teen  Art & Design   \n",
       "3       967.0  2.8M     100,000+  Free     0       Everyone  Art & Design   \n",
       "4       167.0  5.6M      50,000+  Free     0       Everyone  Art & Design   \n",
       "..        ...   ...          ...   ...   ...            ...           ...   \n",
       "495     241.0  2.8M      50,000+  Free     0     Mature 17+        Dating   \n",
       "496   63986.0   20M   5,000,000+  Free     0     Mature 17+        Dating   \n",
       "497     535.0   28M     100,000+  Free     0     Mature 17+        Dating   \n",
       "498    2430.0   13M     500,000+  Free     0     Mature 17+        Dating   \n",
       "499  285726.0   15M  10,000,000+  Free     0     Mature 17+        Dating   \n",
       "\n",
       "        Last Updated         Current Ver   Android Ver  \n",
       "0    January 7, 2018               1.0.0  4.0.3 and up  \n",
       "1                NaN                 NaN           NaN  \n",
       "2       June 8, 2018  Varies with device    4.2 and up  \n",
       "3                NaN                 NaN           NaN  \n",
       "4     March 26, 2017                 1.0    2.3 and up  \n",
       "..               ...                 ...           ...  \n",
       "495     June 1, 2018          2.2.0.1748    5.0 and up  \n",
       "496     May 31, 2018              3.0.15    4.0 and up  \n",
       "497   March 29, 2018               2.0.0    4.1 and up  \n",
       "498    July 26, 2018              12.0.4    4.1 and up  \n",
       "499    July 30, 2018             11.10.1    4.1 and up  \n",
       "\n",
       "[500 rows x 13 columns]"
      ]
     },
     "execution_count": 2,
     "metadata": {},
     "output_type": "execute_result"
    }
   ],
   "source": [
    "df_google_ap_1"
   ]
  },
  {
   "cell_type": "markdown",
   "id": "9c7e0900",
   "metadata": {},
   "source": [
    "**2 – Quels sont les noms, les catégories, et les genres des applications les plus installées\n",
    "Sur Google Play ? ( plus d’ 1milliards de fois )**\n"
   ]
  },
  {
   "cell_type": "code",
   "execution_count": 5,
   "id": "050f6e7f",
   "metadata": {},
   "outputs": [],
   "source": [
    "#essai d'ajout d'une colonne Installs_int pour avoir les intallations en integer, echec !\n",
    "\n",
    "#df_google_ap_1['Installs_int'] = df_google_ap_1['Installs'].map(lambda x: str(x).replace('+', '').replace(',',''))\n",
    "#df_google_ap_1['Installs_int'] = pd.to_numeric(df_google_ap_1['Installs_int'], errors='coerce', downcast=\"integer\")\n",
    "#df_google_ap_1.sort_values(by=['Installs_int'])"
   ]
  },
  {
   "cell_type": "code",
   "execution_count": 18,
   "id": "25f99484",
   "metadata": {},
   "outputs": [
    {
     "data": {
      "text/plain": [
       "array(['1,000,000,000+', '500,000,000+', '100,000,000+', '50,000,000+',\n",
       "       '10,000,000+', '5,000,000+', '1,000,000+', '500,000+', '100,000+',\n",
       "       '50,000+', '10,000+', '5,000+', '1,000+', 'Varies with device',\n",
       "       '100+', '3.6M', '50+'], dtype=object)"
      ]
     },
     "execution_count": 18,
     "metadata": {},
     "output_type": "execute_result"
    }
   ],
   "source": [
    "#Visualisation des valeurs dans la colonne Installs\n",
    "df_google_ap_1['Installs'].unique()"
   ]
  },
  {
   "cell_type": "code",
   "execution_count": 25,
   "id": "c75d2b2c",
   "metadata": {},
   "outputs": [],
   "source": [
    "#Filtrage sur la colonne Installs pour la valeur 1,000,000,000+.\n",
    "more_1M = df_google_ap_1[(df_google_ap_1['Installs'] == '1,000,000,000+')]"
   ]
  },
  {
   "cell_type": "code",
   "execution_count": 26,
   "id": "e9aaea60",
   "metadata": {},
   "outputs": [
    {
     "data": {
      "text/html": [
       "<div>\n",
       "<style scoped>\n",
       "    .dataframe tbody tr th:only-of-type {\n",
       "        vertical-align: middle;\n",
       "    }\n",
       "\n",
       "    .dataframe tbody tr th {\n",
       "        vertical-align: top;\n",
       "    }\n",
       "\n",
       "    .dataframe thead th {\n",
       "        text-align: right;\n",
       "    }\n",
       "</style>\n",
       "<table border=\"1\" class=\"dataframe\">\n",
       "  <thead>\n",
       "    <tr style=\"text-align: right;\">\n",
       "      <th></th>\n",
       "      <th>App</th>\n",
       "      <th>Category</th>\n",
       "      <th>Genres</th>\n",
       "      <th>Installs</th>\n",
       "    </tr>\n",
       "  </thead>\n",
       "  <tbody>\n",
       "    <tr>\n",
       "      <th>359</th>\n",
       "      <td>WhatsApp Messenger</td>\n",
       "      <td>COMMUNICATION</td>\n",
       "      <td>Communication</td>\n",
       "      <td>1,000,000,000+</td>\n",
       "    </tr>\n",
       "    <tr>\n",
       "      <th>314</th>\n",
       "      <td>WhatsApp Messenger</td>\n",
       "      <td>COMMUNICATION</td>\n",
       "      <td>Communication</td>\n",
       "      <td>1,000,000,000+</td>\n",
       "    </tr>\n",
       "    <tr>\n",
       "      <th>360</th>\n",
       "      <td>Messenger – Text and Video Chat for Free</td>\n",
       "      <td>COMMUNICATION</td>\n",
       "      <td>Communication</td>\n",
       "      <td>1,000,000,000+</td>\n",
       "    </tr>\n",
       "    <tr>\n",
       "      <th>313</th>\n",
       "      <td>Messenger – Text and Video Chat for Free</td>\n",
       "      <td>COMMUNICATION</td>\n",
       "      <td>Communication</td>\n",
       "      <td>1,000,000,000+</td>\n",
       "    </tr>\n",
       "    <tr>\n",
       "      <th>440</th>\n",
       "      <td>Skype - free IM &amp; video calls</td>\n",
       "      <td>COMMUNICATION</td>\n",
       "      <td>Communication</td>\n",
       "      <td>1,000,000,000+</td>\n",
       "    </tr>\n",
       "    <tr>\n",
       "      <th>368</th>\n",
       "      <td>Skype - free IM &amp; video calls</td>\n",
       "      <td>COMMUNICATION</td>\n",
       "      <td>Communication</td>\n",
       "      <td>1,000,000,000+</td>\n",
       "    </tr>\n",
       "    <tr>\n",
       "      <th>386</th>\n",
       "      <td>Google Chrome: Fast &amp; Secure</td>\n",
       "      <td>COMMUNICATION</td>\n",
       "      <td>Communication</td>\n",
       "      <td>1,000,000,000+</td>\n",
       "    </tr>\n",
       "    <tr>\n",
       "      <th>316</th>\n",
       "      <td>Google Chrome: Fast &amp; Secure</td>\n",
       "      <td>COMMUNICATION</td>\n",
       "      <td>Communication</td>\n",
       "      <td>1,000,000,000+</td>\n",
       "    </tr>\n",
       "    <tr>\n",
       "      <th>424</th>\n",
       "      <td>Gmail</td>\n",
       "      <td>COMMUNICATION</td>\n",
       "      <td>Communication</td>\n",
       "      <td>1,000,000,000+</td>\n",
       "    </tr>\n",
       "    <tr>\n",
       "      <th>318</th>\n",
       "      <td>Gmail</td>\n",
       "      <td>COMMUNICATION</td>\n",
       "      <td>Communication</td>\n",
       "      <td>1,000,000,000+</td>\n",
       "    </tr>\n",
       "    <tr>\n",
       "      <th>436</th>\n",
       "      <td>Hangouts</td>\n",
       "      <td>COMMUNICATION</td>\n",
       "      <td>Communication</td>\n",
       "      <td>1,000,000,000+</td>\n",
       "    </tr>\n",
       "    <tr>\n",
       "      <th>364</th>\n",
       "      <td>Hangouts</td>\n",
       "      <td>COMMUNICATION</td>\n",
       "      <td>Communication</td>\n",
       "      <td>1,000,000,000+</td>\n",
       "    </tr>\n",
       "    <tr>\n",
       "      <th>319</th>\n",
       "      <td>Hangouts</td>\n",
       "      <td>COMMUNICATION</td>\n",
       "      <td>Communication</td>\n",
       "      <td>1,000,000,000+</td>\n",
       "    </tr>\n",
       "    <tr>\n",
       "      <th>139</th>\n",
       "      <td>Google Play Books</td>\n",
       "      <td>BOOKS_AND_REFERENCE</td>\n",
       "      <td>Books &amp; Reference</td>\n",
       "      <td>1,000,000,000+</td>\n",
       "    </tr>\n",
       "  </tbody>\n",
       "</table>\n",
       "</div>"
      ],
      "text/plain": [
       "                                          App             Category  \\\n",
       "359                        WhatsApp Messenger        COMMUNICATION   \n",
       "314                        WhatsApp Messenger        COMMUNICATION   \n",
       "360  Messenger – Text and Video Chat for Free        COMMUNICATION   \n",
       "313  Messenger – Text and Video Chat for Free        COMMUNICATION   \n",
       "440             Skype - free IM & video calls        COMMUNICATION   \n",
       "368             Skype - free IM & video calls        COMMUNICATION   \n",
       "386              Google Chrome: Fast & Secure        COMMUNICATION   \n",
       "316              Google Chrome: Fast & Secure        COMMUNICATION   \n",
       "424                                     Gmail        COMMUNICATION   \n",
       "318                                     Gmail        COMMUNICATION   \n",
       "436                                  Hangouts        COMMUNICATION   \n",
       "364                                  Hangouts        COMMUNICATION   \n",
       "319                                  Hangouts        COMMUNICATION   \n",
       "139                         Google Play Books  BOOKS_AND_REFERENCE   \n",
       "\n",
       "                Genres        Installs  \n",
       "359      Communication  1,000,000,000+  \n",
       "314      Communication  1,000,000,000+  \n",
       "360      Communication  1,000,000,000+  \n",
       "313      Communication  1,000,000,000+  \n",
       "440      Communication  1,000,000,000+  \n",
       "368      Communication  1,000,000,000+  \n",
       "386      Communication  1,000,000,000+  \n",
       "316      Communication  1,000,000,000+  \n",
       "424      Communication  1,000,000,000+  \n",
       "318      Communication  1,000,000,000+  \n",
       "436      Communication  1,000,000,000+  \n",
       "364      Communication  1,000,000,000+  \n",
       "319      Communication  1,000,000,000+  \n",
       "139  Books & Reference  1,000,000,000+  "
      ]
     },
     "execution_count": 26,
     "metadata": {},
     "output_type": "execute_result"
    }
   ],
   "source": [
    "more_1M.iloc[:,[0,1,9,5]]"
   ]
  },
  {
   "cell_type": "markdown",
   "id": "c2b0eee4",
   "metadata": {},
   "source": [
    "**3 – Quel est le plus grand nombre de Reviews? ( avis )? Quel est le nom et la note de \n",
    "l’application concernée?**"
   ]
  },
  {
   "cell_type": "code",
   "execution_count": 6,
   "id": "d1148b50",
   "metadata": {},
   "outputs": [
    {
     "data": {
      "text/html": [
       "<div>\n",
       "<style scoped>\n",
       "    .dataframe tbody tr th:only-of-type {\n",
       "        vertical-align: middle;\n",
       "    }\n",
       "\n",
       "    .dataframe tbody tr th {\n",
       "        vertical-align: top;\n",
       "    }\n",
       "\n",
       "    .dataframe thead th {\n",
       "        text-align: right;\n",
       "    }\n",
       "</style>\n",
       "<table border=\"1\" class=\"dataframe\">\n",
       "  <thead>\n",
       "    <tr style=\"text-align: right;\">\n",
       "      <th></th>\n",
       "      <th>App</th>\n",
       "      <th>Category</th>\n",
       "      <th>Rating</th>\n",
       "      <th>Reviews</th>\n",
       "      <th>Size</th>\n",
       "      <th>Installs</th>\n",
       "      <th>Type</th>\n",
       "      <th>Price</th>\n",
       "      <th>Content Rating</th>\n",
       "      <th>Genres</th>\n",
       "      <th>Last Updated</th>\n",
       "      <th>Current Ver</th>\n",
       "      <th>Android Ver</th>\n",
       "    </tr>\n",
       "  </thead>\n",
       "  <tbody>\n",
       "    <tr>\n",
       "      <th>359</th>\n",
       "      <td>WhatsApp Messenger</td>\n",
       "      <td>COMMUNICATION</td>\n",
       "      <td>4.4</td>\n",
       "      <td>69119316.0</td>\n",
       "      <td>Varies with device</td>\n",
       "      <td>1,000,000,000+</td>\n",
       "      <td>Free</td>\n",
       "      <td>0</td>\n",
       "      <td>Everyone</td>\n",
       "      <td>Communication</td>\n",
       "      <td>August 3, 2018</td>\n",
       "      <td>Varies with device</td>\n",
       "      <td>Varies with device</td>\n",
       "    </tr>\n",
       "  </tbody>\n",
       "</table>\n",
       "</div>"
      ],
      "text/plain": [
       "                    App       Category Rating     Reviews                Size  \\\n",
       "359  WhatsApp Messenger  COMMUNICATION    4.4  69119316.0  Varies with device   \n",
       "\n",
       "           Installs  Type Price Content Rating         Genres    Last Updated  \\\n",
       "359  1,000,000,000+  Free     0       Everyone  Communication  August 3, 2018   \n",
       "\n",
       "            Current Ver         Android Ver  \n",
       "359  Varies with device  Varies with device  "
      ]
     },
     "execution_count": 6,
     "metadata": {},
     "output_type": "execute_result"
    }
   ],
   "source": [
    "#Triage des valeurs par Reviews, du plus grand au plus petit et affichage de la ligne 1.\n",
    "df_google_ap_1.sort_values(by=['Reviews'],inplace=True,ascending=False)\n",
    "df_google_ap_1.head(1)"
   ]
  },
  {
   "cell_type": "code",
   "execution_count": 7,
   "id": "b19c2d6b",
   "metadata": {},
   "outputs": [
    {
     "name": "stdout",
     "output_type": "stream",
     "text": [
      "L'application qui a le plus grand nombre de reviews : WhatsApp Messenger\n"
     ]
    }
   ],
   "source": [
    "print('L\\'application qui a le plus grand nombre de reviews :', df_google_ap_1.iloc[1,0])"
   ]
  },
  {
   "cell_type": "markdown",
   "id": "9e97b843",
   "metadata": {},
   "source": [
    "**4 –Afficher les colonnes 2,5,6 et les lignes 3 à 16 du Dataframe** "
   ]
  },
  {
   "cell_type": "code",
   "execution_count": 8,
   "id": "c10c196d",
   "metadata": {},
   "outputs": [
    {
     "name": "stdout",
     "output_type": "stream",
     "text": [
      "    Rating        Installs  Type\n",
      "313    4.0  1,000,000,000+  Free\n",
      "394    4.5    500,000,000+  Free\n",
      "356    4.5    500,000,000+  Free\n",
      "381    4.3    100,000,000+  Free\n",
      "439    4.3    500,000,000+  Free\n",
      "363    4.3    500,000,000+  Free\n",
      "405    4.3    500,000,000+  Free\n",
      "320    4.3    500,000,000+  Free\n",
      "446    4.2    500,000,000+  Free\n",
      "378    4.2    500,000,000+  Free\n",
      "440    4.1  1,000,000,000+  Free\n",
      "368    4.1  1,000,000,000+  Free\n",
      "386    4.3  1,000,000,000+  Free\n",
      "316    4.3  1,000,000,000+  Free\n"
     ]
    }
   ],
   "source": [
    "print(df_google_ap_1.iloc[3:17,[2,5,6]])"
   ]
  },
  {
   "cell_type": "markdown",
   "id": "8c023f8e",
   "metadata": {},
   "source": [
    "**5 – Combien y –a – t –il  d’applications ouvertes aux personnes de tous âges?**"
   ]
  },
  {
   "cell_type": "code",
   "execution_count": 31,
   "id": "d9a76da3",
   "metadata": {},
   "outputs": [
    {
     "name": "stdout",
     "output_type": "stream",
     "text": [
      "Nombre d'applications ouvertes aux persones de tous âges : 391\n"
     ]
    }
   ],
   "source": [
    "#Filtrage des valeurs de la colonne Content Rating pour la valeur 'Everyone'\n",
    "#création d'une liste avec les index des applications\n",
    "#compte le nombre d'index dans la liste pour avoir le nombre d'application\n",
    "app_for_all_age = df_google_ap_1[(df_google_ap_1['Content Rating'] == 'Everyone')]\n",
    "list_index_app_for_all_age = app_for_all_age.index\n",
    "print('Nombre d\\'applications ouvertes aux persones de tous âges :',len(list_index_app_for_all_age))"
   ]
  },
  {
   "cell_type": "markdown",
   "id": "36b342b0",
   "metadata": {},
   "source": [
    "**6 – Dans quelle catégorie y a – t –il  le plus d’applications ?**"
   ]
  },
  {
   "cell_type": "code",
   "execution_count": 35,
   "id": "f657cca8",
   "metadata": {},
   "outputs": [
    {
     "name": "stdout",
     "output_type": "stream",
     "text": [
      "['COMMUNICATION' 'BOOKS_AND_REFERENCE' 'BUSINESS' 'COMICS' 'DATING'\n",
      " 'ART_AND_DESIGN' 'AUTO_AND_VEHICLES' 'BEAUTY' ' Private & Adblock🐬'\n",
      " ' SMS spam blocking & Dialer' ' Gmail and Outlook Mail'\n",
      " ' find information about Swedish vehicles']\n"
     ]
    }
   ],
   "source": [
    "#visualisation des différentes catégories\n",
    "diff_cat = df_google_ap_1['Category'].unique()\n",
    "(print(diff_cat))"
   ]
  },
  {
   "cell_type": "code",
   "execution_count": 32,
   "id": "bc302082",
   "metadata": {},
   "outputs": [
    {
     "name": "stdout",
     "output_type": "stream",
     "text": [
      "Category\n",
      " Gmail and Outlook Mail                                          [myMail – Email for Hotmail]\n",
      " Private & Adblock🐬                                                  [Dolphin Browser - Fast]\n",
      " SMS spam blocking & Dialer                                           [Truecaller: Caller ID]\n",
      " find information about Swedish vehicles                          [REG - Check the regnumber]\n",
      "ART_AND_DESIGN                              [Textgram - write on photos, ibis Paint X, Ske...\n",
      "AUTO_AND_VEHICLES                           [Tickets + PDA 2018 Exam, Fuelio: Gas log & co...\n",
      "BEAUTY                                      [Beauty Camera - Selfie Camera, Ulta Beauty, M...\n",
      "BOOKS_AND_REFERENCE                         [Wattpad 📖 Free Books, Google Play Books, Amaz...\n",
      "BUSINESS                                    [Facebook Pages Manager, Uber Driver, OfficeSu...\n",
      "COMICS                                      [LINE WEBTOON - Free Comics, Narrator's Voice,...\n",
      "COMMUNICATION                               [WhatsApp Messenger, Messenger – Text and Vide...\n",
      "DATING                                      [Zoosk Dating App: Meet Singles, Hot or Not - ...\n",
      "Name: App, dtype: object\n"
     ]
    }
   ],
   "source": [
    "#grouper les apllications par catégories \n",
    "cat = df_google_ap_1.groupby('Category')['App'].unique()\n",
    "print(cat)"
   ]
  },
  {
   "cell_type": "code",
   "execution_count": 12,
   "id": "f6830341",
   "metadata": {},
   "outputs": [
    {
     "name": "stdout",
     "output_type": "stream",
     "text": [
      "Category\n",
      " Gmail and Outlook Mail                       1\n",
      " Private & Adblock🐬                           1\n",
      " SMS spam blocking & Dialer                   1\n",
      " find information about Swedish vehicles      1\n",
      "ART_AND_DESIGN                               47\n",
      "AUTO_AND_VEHICLES                            43\n",
      "BEAUTY                                       35\n",
      "BOOKS_AND_REFERENCE                          47\n",
      "BUSINESS                                    106\n",
      "COMICS                                       34\n",
      "COMMUNICATION                               132\n",
      "DATING                                       52\n",
      "Name: App, dtype: int64\n"
     ]
    }
   ],
   "source": [
    "#compter le nombre d'application par catégorie\n",
    "count_cat = df_google_ap_1.groupby('Category')['App'].count()\n",
    "print(count_cat)"
   ]
  },
  {
   "cell_type": "code",
   "execution_count": 13,
   "id": "300247f9",
   "metadata": {},
   "outputs": [
    {
     "name": "stdout",
     "output_type": "stream",
     "text": [
      "La catégorie où il y a le plus d'applications : COMMUNICATION avec 132 applications.\n"
     ]
    }
   ],
   "source": [
    "#Trouver la catégorie avec le maximum d'applications\n",
    "max_cat = count_cat.max()\n",
    "print('La catégorie où il y a le plus d\\'applications :',count_cat.idxmax(), 'avec', max_cat, 'applications.' )"
   ]
  },
  {
   "cell_type": "markdown",
   "id": "098079b3",
   "metadata": {},
   "source": [
    "**7 – Quelle est l’application vendue la plus chère?  ( celle à 7,99 dollars)**"
   ]
  },
  {
   "cell_type": "code",
   "execution_count": 14,
   "id": "8c5385a2",
   "metadata": {},
   "outputs": [
    {
     "name": "stdout",
     "output_type": "stream",
     "text": [
      "['0' '$3.99' '$4.99' '$6.99' 'Free' '$7.99' '$1.49']\n"
     ]
    }
   ],
   "source": [
    "#Visualisation des différentes valeurs de prix\n",
    "diff_price = df_google_ap_1['Price'].unique()\n",
    "print(diff_price)"
   ]
  },
  {
   "cell_type": "code",
   "execution_count": 15,
   "id": "d0b67449",
   "metadata": {},
   "outputs": [
    {
     "name": "stdout",
     "output_type": "stream",
     "text": [
      "Price\n",
      "$1.49      1\n",
      "$3.99      2\n",
      "$4.99      4\n",
      "$6.99      1\n",
      "$7.99      1\n",
      "0        487\n",
      "Free       4\n",
      "Name: App, dtype: int64\n"
     ]
    }
   ],
   "source": [
    "#Visualisation du nombre d'application par prix\n",
    "count_price = df_google_ap_1.groupby('Price')['App'].count()\n",
    "print(count_price)"
   ]
  },
  {
   "cell_type": "code",
   "execution_count": 71,
   "id": "b30e05bb",
   "metadata": {},
   "outputs": [
    {
     "data": {
      "text/html": [
       "<div>\n",
       "<style scoped>\n",
       "    .dataframe tbody tr th:only-of-type {\n",
       "        vertical-align: middle;\n",
       "    }\n",
       "\n",
       "    .dataframe tbody tr th {\n",
       "        vertical-align: top;\n",
       "    }\n",
       "\n",
       "    .dataframe thead th {\n",
       "        text-align: right;\n",
       "    }\n",
       "</style>\n",
       "<table border=\"1\" class=\"dataframe\">\n",
       "  <thead>\n",
       "    <tr style=\"text-align: right;\">\n",
       "      <th></th>\n",
       "      <th>App</th>\n",
       "      <th>Category</th>\n",
       "      <th>Rating</th>\n",
       "      <th>Reviews</th>\n",
       "      <th>Size</th>\n",
       "      <th>Installs</th>\n",
       "      <th>Type</th>\n",
       "      <th>Price</th>\n",
       "      <th>Content Rating</th>\n",
       "      <th>Genres</th>\n",
       "      <th>Last Updated</th>\n",
       "      <th>Current Ver</th>\n",
       "      <th>Android Ver</th>\n",
       "    </tr>\n",
       "  </thead>\n",
       "  <tbody>\n",
       "    <tr>\n",
       "      <th>451</th>\n",
       "      <td>AMBW Dating App: Asian Men Black Women Interra...</td>\n",
       "      <td>DATING</td>\n",
       "      <td>3.5</td>\n",
       "      <td>2.0</td>\n",
       "      <td>17M</td>\n",
       "      <td>100+</td>\n",
       "      <td>Paid</td>\n",
       "      <td>$7.99</td>\n",
       "      <td>Mature 17+</td>\n",
       "      <td>Dating</td>\n",
       "      <td>January 21, 2017</td>\n",
       "      <td>1.0.1</td>\n",
       "      <td>4.0 and up</td>\n",
       "    </tr>\n",
       "  </tbody>\n",
       "</table>\n",
       "</div>"
      ],
      "text/plain": [
       "                                                   App Category Rating  \\\n",
       "451  AMBW Dating App: Asian Men Black Women Interra...   DATING    3.5   \n",
       "\n",
       "     Reviews Size Installs  Type  Price Content Rating  Genres  \\\n",
       "451      2.0  17M     100+  Paid  $7.99     Mature 17+  Dating   \n",
       "\n",
       "         Last Updated Current Ver Android Ver  \n",
       "451  January 21, 2017       1.0.1  4.0 and up  "
      ]
     },
     "execution_count": 71,
     "metadata": {},
     "output_type": "execute_result"
    }
   ],
   "source": [
    "#visualisation de la ligne avec l'application la plus chère\n",
    "higher_price =df_google_ap_1.loc[df_google_ap_1['Price'] == '$7.99']\n",
    "higher_price"
   ]
  },
  {
   "cell_type": "code",
   "execution_count": 67,
   "id": "1f53d5d6",
   "metadata": {},
   "outputs": [
    {
     "name": "stdout",
     "output_type": "stream",
     "text": [
      "L'application la plus chère est : AMBW Dating App: Asian Men Black Women Interracial\n"
     ]
    }
   ],
   "source": [
    "print('L\\'application la plus chère est :', df_google_ap_1['App'][451])"
   ]
  },
  {
   "cell_type": "code",
   "execution_count": null,
   "id": "3e2c7234",
   "metadata": {},
   "outputs": [],
   "source": []
  }
 ],
 "metadata": {
  "kernelspec": {
   "display_name": "Python 3 (ipykernel)",
   "language": "python",
   "name": "python3"
  },
  "language_info": {
   "codemirror_mode": {
    "name": "ipython",
    "version": 3
   },
   "file_extension": ".py",
   "mimetype": "text/x-python",
   "name": "python",
   "nbconvert_exporter": "python",
   "pygments_lexer": "ipython3",
   "version": "3.9.12"
  }
 },
 "nbformat": 4,
 "nbformat_minor": 5
}
