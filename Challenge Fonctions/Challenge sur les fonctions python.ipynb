{
 "cells": [
  {
   "cell_type": "markdown",
   "id": "7c0b0d3d",
   "metadata": {},
   "source": [
    "## Challenge sur les fonctions"
   ]
  },
  {
   "cell_type": "code",
   "execution_count": 29,
   "id": "3f83c8de",
   "metadata": {},
   "outputs": [],
   "source": [
    "import numpy as np\n",
    "list_1 = [1,2,3,6,6,8]\n",
    "list_2 = [1,2,3,5,6,7,9]\n",
    "list_3 = [2,4,4,5,5,7,4,9]"
   ]
  },
  {
   "cell_type": "markdown",
   "id": "134b8381",
   "metadata": {},
   "source": [
    "### Fonction moyenne"
   ]
  },
  {
   "cell_type": "code",
   "execution_count": 30,
   "id": "31f05d90",
   "metadata": {},
   "outputs": [],
   "source": [
    "def mean(x): \n",
    "    total = sum(x)\n",
    "    average = total/len(x)\n",
    "    return average"
   ]
  },
  {
   "cell_type": "code",
   "execution_count": 31,
   "id": "8cad42ef",
   "metadata": {},
   "outputs": [
    {
     "name": "stdout",
     "output_type": "stream",
     "text": [
      "4.333333333333333\n",
      "4.714285714285714\n",
      "5.0\n"
     ]
    }
   ],
   "source": [
    "print(mean(list_1))\n",
    "print(mean(list_2))\n",
    "print(mean(list_3))"
   ]
  },
  {
   "cell_type": "code",
   "execution_count": 32,
   "id": "f94c4a56",
   "metadata": {},
   "outputs": [
    {
     "name": "stdout",
     "output_type": "stream",
     "text": [
      "4.333333333333333 4.714285714285714 5.0\n"
     ]
    }
   ],
   "source": [
    "# Vérification des résultats avec la fonction mean de numpy\n",
    "print(np.mean(list_1), np.mean(list_2), np.mean(list_3))"
   ]
  },
  {
   "cell_type": "markdown",
   "id": "d06fc842",
   "metadata": {},
   "source": [
    "## Fonction médiane"
   ]
  },
  {
   "cell_type": "code",
   "execution_count": 33,
   "id": "5e9da64f",
   "metadata": {},
   "outputs": [],
   "source": [
    "def median(x):\n",
    "    x.sort()\n",
    "    #si la liste à un nombre d'index impair\n",
    "    if len(x)%2 != 0:\n",
    "        med = x[int((len(x)-1)/2)]\n",
    "    #si la liste à un nombre d'index pair\n",
    "    else:\n",
    "        med = ((x[int((len(x)-1)/2)])+(x[int(len(x)/2)]))/2\n",
    "    return med"
   ]
  },
  {
   "cell_type": "code",
   "execution_count": 34,
   "id": "847f7fc0",
   "metadata": {},
   "outputs": [
    {
     "name": "stdout",
     "output_type": "stream",
     "text": [
      "4.5\n",
      "5\n",
      "4.5\n"
     ]
    }
   ],
   "source": [
    "print(median(list_1))\n",
    "print(median(list_2))\n",
    "print(median(list_3))"
   ]
  },
  {
   "cell_type": "code",
   "execution_count": 35,
   "id": "af23c260",
   "metadata": {},
   "outputs": [
    {
     "name": "stdout",
     "output_type": "stream",
     "text": [
      "4.5 5.0 4.5\n"
     ]
    }
   ],
   "source": [
    "# Vérification des résultats avec la fonction median de numpy\n",
    "print(np.median(list_1), np.median(list_2), np.median(list_3))"
   ]
  },
  {
   "cell_type": "markdown",
   "id": "e93de62a",
   "metadata": {},
   "source": [
    "## Fonction variance"
   ]
  },
  {
   "cell_type": "code",
   "execution_count": 36,
   "id": "cdb54924",
   "metadata": {},
   "outputs": [],
   "source": [
    "def variance(x):\n",
    "    diff = 0\n",
    "    for i in x:\n",
    "        diff += (i - mean(x))**2\n",
    "    var = diff/len(x)\n",
    "    return var"
   ]
  },
  {
   "cell_type": "code",
   "execution_count": 37,
   "id": "dd60e8c7",
   "metadata": {},
   "outputs": [
    {
     "name": "stdout",
     "output_type": "stream",
     "text": [
      "6.222222222222221\n",
      "7.061224489795919\n",
      "4.0\n"
     ]
    }
   ],
   "source": [
    "print(variance(list_1))\n",
    "print(variance(list_2))\n",
    "print(variance(list_3))"
   ]
  },
  {
   "cell_type": "code",
   "execution_count": 38,
   "id": "0551c837",
   "metadata": {},
   "outputs": [
    {
     "name": "stdout",
     "output_type": "stream",
     "text": [
      "6.222222222222221 7.061224489795919 4.0\n"
     ]
    }
   ],
   "source": [
    "# Vérification des résultats avec la fonction var de numpy\n",
    "print(np.var(list_1), np.var(list_2), np.var(list_3))"
   ]
  },
  {
   "cell_type": "markdown",
   "id": "07baf863",
   "metadata": {},
   "source": [
    "## Fonction écart-type"
   ]
  },
  {
   "cell_type": "code",
   "execution_count": 39,
   "id": "c3022d23",
   "metadata": {},
   "outputs": [],
   "source": [
    "def standard_deviation(x):\n",
    "    var_x = variance(x)\n",
    "    sd = pow(var_x, 0.5)\n",
    "    return sd"
   ]
  },
  {
   "cell_type": "code",
   "execution_count": 40,
   "id": "7bb89b58",
   "metadata": {},
   "outputs": [
    {
     "name": "stdout",
     "output_type": "stream",
     "text": [
      "2.494438257849294 2.657296462534039 2.0\n"
     ]
    }
   ],
   "source": [
    "print(standard_deviation(list_1), standard_deviation(list_2), standard_deviation(list_3))"
   ]
  },
  {
   "cell_type": "code",
   "execution_count": 41,
   "id": "3d9f0b7d",
   "metadata": {},
   "outputs": [
    {
     "name": "stdout",
     "output_type": "stream",
     "text": [
      "2.494438257849294 2.657296462534039 2.0\n"
     ]
    }
   ],
   "source": [
    "# Vérification des résultats avec la fonction std de numpy\n",
    "print(np.std(list_1), np.std(list_2), np.std(list_3))"
   ]
  },
  {
   "cell_type": "code",
   "execution_count": null,
   "id": "c1f6980a",
   "metadata": {},
   "outputs": [],
   "source": []
  }
 ],
 "metadata": {
  "kernelspec": {
   "display_name": "Python 3 (ipykernel)",
   "language": "python",
   "name": "python3"
  },
  "language_info": {
   "codemirror_mode": {
    "name": "ipython",
    "version": 3
   },
   "file_extension": ".py",
   "mimetype": "text/x-python",
   "name": "python",
   "nbconvert_exporter": "python",
   "pygments_lexer": "ipython3",
   "version": "3.9.12"
  }
 },
 "nbformat": 4,
 "nbformat_minor": 5
}
