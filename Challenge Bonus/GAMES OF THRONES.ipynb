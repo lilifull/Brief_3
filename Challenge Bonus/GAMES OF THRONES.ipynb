{
 "cells": [
  {
   "cell_type": "markdown",
   "id": "1675302f",
   "metadata": {},
   "source": [
    "## CHALLENGE BONUS : GAMES OF THRONES"
   ]
  },
  {
   "cell_type": "markdown",
   "id": "769b049c",
   "metadata": {},
   "source": [
    "mots = ['eddard', 'catelyn', 'robb', 'sansa', 'arya', 'brandon',\n",
    "'rickon', 'theon', 'rorbert', 'cersei', 'tywin', 'jaime',\n",
    "'tyrion', 'shae', 'bronn', 'lancel', 'joffrey', 'sandor',\n",
    "'varys', 'renly', 'a' ]\n"
   ]
  },
  {
   "cell_type": "markdown",
   "id": "54902f5f",
   "metadata": {},
   "source": [
    "Prénoms dans GOT ( Games Of Trones)\n",
    "\n",
    "1/ Ecrire une fonction qui retourne tous les mots de la liste qui ont un ‘y’ en seconde position \n",
    "def mots_lettre_position (liste, lettre, position) : #... Return [ .... ] \n"
   ]
  },
  {
   "cell_type": "code",
   "execution_count": 4,
   "id": "33959fef",
   "metadata": {},
   "outputs": [],
   "source": [
    "mots = ['eddard', 'catelyn', 'robb', 'sansa', 'arya', 'brandon',\n",
    "'rickon', 'theon', 'rorbert', 'cersei', 'tywin', 'jaime',\n",
    "'tyrion', 'shae', 'bronn', 'lancel', 'joffrey', 'sandor',\n",
    "'varys', 'renly', 'a' ]"
   ]
  },
  {
   "cell_type": "code",
   "execution_count": 16,
   "id": "7c9ebafd",
   "metadata": {},
   "outputs": [],
   "source": [
    "def mots_lettre_position(liste, lettre, position):\n",
    "    liste_nom = []\n",
    "    for i in range(len(liste)):\n",
    "        try:\n",
    "            data1 = liste[i][position-1]\n",
    "        except IndexError:\n",
    "            data1 = 'null'\n",
    "        if data1 == lettre:\n",
    "            liste_nom.append(liste[i])\n",
    "    return liste_nom\n",
    "        "
   ]
  },
  {
   "cell_type": "code",
   "execution_count": 27,
   "id": "2adcad5c",
   "metadata": {},
   "outputs": [],
   "source": [
    "res = mots_lettre_position(mots, 'y', 2)"
   ]
  },
  {
   "cell_type": "code",
   "execution_count": 32,
   "id": "381315bc",
   "metadata": {},
   "outputs": [
    {
     "name": "stdout",
     "output_type": "stream",
     "text": [
      "Les mots de la liste qui ont un 'y' en seconde position: tywin,tyrion\n"
     ]
    }
   ],
   "source": [
    "print('Les mots de la liste qui ont un \\'y\\' en seconde position:', ','.join(res))"
   ]
  },
  {
   "cell_type": "markdown",
   "id": "f6359568",
   "metadata": {},
   "source": [
    "On modifie la fonction précédente mots_lettre_position de telle sorte qu’elle s’écrive comme suit :\n",
    " def mots_lettre_position (dictionnaire_bien_choisi, lettre, position) :\n",
    " return dictionnaire_bien_choisi. get ( (position, lettre) , [ ] ) \n"
   ]
  },
  {
   "cell_type": "markdown",
   "id": "9b4fc8e7",
   "metadata": {},
   "source": [
    "2/ Construisez le dictionnaire dictionnaire_bien_choisi pour que cela fonctionne. Combien de mots sont stockés dans dictionnaire_bien_choisi ? \n"
   ]
  },
  {
   "cell_type": "code",
   "execution_count": 33,
   "id": "f6d176cc",
   "metadata": {},
   "outputs": [],
   "source": [
    "mots = ['eddard', 'catelyn', 'robb', 'sansa', 'arya', 'brandon',\n",
    "'rickon', 'theon', 'rorbert', 'cersei', 'tywin', 'jaime',\n",
    "'tyrion', 'shae', 'bronn', 'lancel', 'joffrey', 'sandor',\n",
    "'varys', 'renly', 'a']"
   ]
  },
  {
   "cell_type": "code",
   "execution_count": null,
   "id": "37568db1",
   "metadata": {},
   "outputs": [],
   "source": [
    "def mots_lettre_position (dictionnaire_bien_choisi, lettre, position) :\n",
    "    \n",
    "    return dictionnaire_bien_choisi. get ( (position, lettre) , [ ] )\n",
    "    "
   ]
  }
 ],
 "metadata": {
  "kernelspec": {
   "display_name": "Python 3 (ipykernel)",
   "language": "python",
   "name": "python3"
  },
  "language_info": {
   "codemirror_mode": {
    "name": "ipython",
    "version": 3
   },
   "file_extension": ".py",
   "mimetype": "text/x-python",
   "name": "python",
   "nbconvert_exporter": "python",
   "pygments_lexer": "ipython3",
   "version": "3.9.12"
  }
 },
 "nbformat": 4,
 "nbformat_minor": 5
}
