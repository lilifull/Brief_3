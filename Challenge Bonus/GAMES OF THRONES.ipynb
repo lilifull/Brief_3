{
 "cells": [
  {
   "cell_type": "markdown",
   "id": "1675302f",
   "metadata": {},
   "source": [
    "## CHALLENGE BONUS : GAMES OF THRONES"
   ]
  },
  {
   "cell_type": "markdown",
   "id": "769b049c",
   "metadata": {},
   "source": [
    "mots = ['eddard', 'catelyn', 'robb', 'sansa', 'arya', 'brandon',\n",
    "'rickon', 'theon', 'rorbert', 'cersei', 'tywin', 'jaime',\n",
    "'tyrion', 'shae', 'bronn', 'lancel', 'joffrey', 'sandor',\n",
    "'varys', 'renly', 'a' ]\n"
   ]
  },
  {
   "cell_type": "markdown",
   "id": "54902f5f",
   "metadata": {},
   "source": [
    "Prénoms dans GOT ( Games Of Trones)\n",
    "\n",
    "1/ Ecrire une fonction qui retourne tous les mots de la liste qui ont un ‘y’ en seconde position \n",
    "def mots_lettre_position (liste, lettre, position) : #... Return [ .... ] \n"
   ]
  },
  {
   "cell_type": "code",
   "execution_count": 79,
   "id": "33959fef",
   "metadata": {},
   "outputs": [],
   "source": [
    "mots = ['eddard', 'catelyn', 'robb', 'sansa', 'arya', 'brandon',\n",
    "'rickon', 'theon', 'rorbert', 'cersei', 'tywin', 'jaime',\n",
    "'tyrion', 'shae', 'bronn', 'lancel', 'joffrey', 'sandor',\n",
    "'varys', 'renly', 'a' ]"
   ]
  },
  {
   "cell_type": "code",
   "execution_count": 80,
   "id": "7c9ebafd",
   "metadata": {},
   "outputs": [],
   "source": [
    "def mots_lettre_position(liste, lettre, position):\n",
    "    liste_nom = []\n",
    "    #Permet de parcourir la liste en fonction de sa longueur  \n",
    "    for i in range(len(liste)):\n",
    "        try:\n",
    "            #selectionne la position dans le nom\n",
    "            current_letter = liste[i][position-1]\n",
    "        #permet d'eviter l'erreur si un nom est trop court\n",
    "        except IndexError:\n",
    "            current_letter = 'null'\n",
    "        #verifie que la lettre à la position donnée est égale à la lettre spécifiée \n",
    "        if current_letter == lettre:\n",
    "            #ajoute le nom dans la liste\n",
    "            liste_nom.append(liste[i])\n",
    "    return liste_nom\n",
    "        "
   ]
  },
  {
   "cell_type": "code",
   "execution_count": 81,
   "id": "2adcad5c",
   "metadata": {},
   "outputs": [],
   "source": [
    "res = mots_lettre_position(mots, 'y', 2)"
   ]
  },
  {
   "cell_type": "code",
   "execution_count": 82,
   "id": "381315bc",
   "metadata": {},
   "outputs": [
    {
     "name": "stdout",
     "output_type": "stream",
     "text": [
      "Les mots de la liste qui ont un 'y' en seconde position: tywin,tyrion\n"
     ]
    }
   ],
   "source": [
    "print('Les mots de la liste qui ont un \\'y\\' en seconde position:', ','.join(res))"
   ]
  },
  {
   "cell_type": "markdown",
   "id": "f6359568",
   "metadata": {},
   "source": [
    "On modifie la fonction précédente mots_lettre_position de telle sorte qu’elle s’écrive comme suit :\n",
    " def mots_lettre_position (dictionnaire_bien_choisi, lettre, position) :\n",
    " return dictionnaire_bien_choisi. get ( (position, lettre) , [ ] ) \n"
   ]
  },
  {
   "cell_type": "markdown",
   "id": "9b4fc8e7",
   "metadata": {},
   "source": [
    "2/ Construisez le dictionnaire dictionnaire_bien_choisi pour que cela fonctionne. Combien de mots sont stockés dans dictionnaire_bien_choisi ? \n"
   ]
  },
  {
   "cell_type": "code",
   "execution_count": 83,
   "id": "5cd53cde",
   "metadata": {
    "scrolled": true
   },
   "outputs": [
    {
     "data": {
      "text/plain": [
       "{(0, 'e'): ['eddard'],\n",
       " (1, 'd'): ['eddard'],\n",
       " (2, 'd'): ['eddard'],\n",
       " (3, 'a'): ['eddard', 'arya'],\n",
       " (4, 'r'): ['eddard', 'joffrey'],\n",
       " (5, 'd'): ['eddard'],\n",
       " (0, 'c'): ['catelyn', 'cersei'],\n",
       " (1, 'a'): ['catelyn', 'sansa', 'jaime', 'lancel', 'sandor', 'varys'],\n",
       " (2, 't'): ['catelyn'],\n",
       " (3, 'e'): ['catelyn', 'shae'],\n",
       " (4, 'l'): ['catelyn'],\n",
       " (5, 'y'): ['catelyn'],\n",
       " (6, 'n'): ['catelyn', 'brandon'],\n",
       " (0, 'r'): ['robb', 'rickon', 'rorbert', 'renly'],\n",
       " (1, 'o'): ['robb', 'rorbert', 'joffrey'],\n",
       " (2, 'b'): ['robb'],\n",
       " (3, 'b'): ['robb', 'rorbert'],\n",
       " (0, 's'): ['sansa', 'shae', 'sandor'],\n",
       " (2, 'n'): ['sansa', 'lancel', 'sandor', 'renly'],\n",
       " (3, 's'): ['sansa', 'cersei'],\n",
       " (4, 'a'): ['sansa'],\n",
       " (0, 'a'): ['arya', 'a'],\n",
       " (1, 'r'): ['arya', 'brandon', 'bronn'],\n",
       " (2, 'y'): ['arya'],\n",
       " (0, 'b'): ['brandon', 'bronn'],\n",
       " (2, 'a'): ['brandon', 'shae'],\n",
       " (3, 'n'): ['brandon', 'bronn'],\n",
       " (4, 'd'): ['brandon'],\n",
       " (5, 'o'): ['brandon'],\n",
       " (1, 'i'): ['rickon'],\n",
       " (2, 'c'): ['rickon'],\n",
       " (3, 'k'): ['rickon'],\n",
       " (4, 'o'): ['rickon', 'tyrion', 'sandor'],\n",
       " (5, 'n'): ['rickon', 'tyrion'],\n",
       " (0, 't'): ['theon', 'tywin', 'tyrion'],\n",
       " (1, 'h'): ['theon', 'shae'],\n",
       " (2, 'e'): ['theon'],\n",
       " (3, 'o'): ['theon'],\n",
       " (4, 'n'): ['theon', 'tywin', 'bronn'],\n",
       " (2, 'r'): ['rorbert', 'cersei', 'tyrion', 'varys'],\n",
       " (4, 'e'): ['rorbert', 'cersei', 'jaime', 'lancel'],\n",
       " (5, 'r'): ['rorbert', 'sandor'],\n",
       " (6, 't'): ['rorbert'],\n",
       " (1, 'e'): ['cersei', 'renly'],\n",
       " (5, 'i'): ['cersei'],\n",
       " (1, 'y'): ['tywin', 'tyrion'],\n",
       " (2, 'w'): ['tywin'],\n",
       " (3, 'i'): ['tywin', 'tyrion'],\n",
       " (0, 'j'): ['jaime', 'joffrey'],\n",
       " (2, 'i'): ['jaime'],\n",
       " (3, 'm'): ['jaime'],\n",
       " (2, 'o'): ['bronn'],\n",
       " (0, 'l'): ['lancel'],\n",
       " (3, 'c'): ['lancel'],\n",
       " (5, 'l'): ['lancel'],\n",
       " (2, 'f'): ['joffrey'],\n",
       " (3, 'f'): ['joffrey'],\n",
       " (5, 'e'): ['joffrey'],\n",
       " (6, 'y'): ['joffrey'],\n",
       " (3, 'd'): ['sandor'],\n",
       " (0, 'v'): ['varys'],\n",
       " (3, 'y'): ['varys'],\n",
       " (4, 's'): ['varys'],\n",
       " (3, 'l'): ['renly'],\n",
       " (4, 'y'): ['renly']}"
      ]
     },
     "execution_count": 83,
     "metadata": {},
     "output_type": "execute_result"
    }
   ],
   "source": [
    "#Création d'un dictionnaire avec la position et la lettre en key et le nom en value\n",
    "dictionaire_bien_choisi = { }\n",
    "#Boucle pour parcourir les noms de la liste\n",
    "for mot in mots :\n",
    "    #Boucle pour parcourir les lettres du nom\n",
    "    for index,letter in enumerate(mot) :\n",
    "            #Création de la key avec la position et la lettre en fonction du nom et création de la value\n",
    "            dictionaire_bien_choisi [index,letter] = dictionaire_bien_choisi.get ((index,letter), []) + [mot]\n",
    "dictionaire_bien_choisi"
   ]
  },
  {
   "cell_type": "code",
   "execution_count": 84,
   "id": "37568db1",
   "metadata": {},
   "outputs": [],
   "source": [
    "def mots_lettre_position_2 (dictionnaire_bien_choisi, lettre, position) :\n",
    "    #.get renvoit la value du dictionnaire en fonction de la clé, ici spécifiée par les paramètres de la fonction\n",
    "    return dictionnaire_bien_choisi.get((position, lettre) , [ ] )\n",
    "    "
   ]
  },
  {
   "cell_type": "code",
   "execution_count": 85,
   "id": "d27f314c",
   "metadata": {},
   "outputs": [],
   "source": [
    "res_2 = mots_lettre_position_2(dictionaire_bien_choisi, 'y', 1 )"
   ]
  },
  {
   "cell_type": "code",
   "execution_count": 86,
   "id": "158d9f9e",
   "metadata": {},
   "outputs": [
    {
     "name": "stdout",
     "output_type": "stream",
     "text": [
      "Les mots de la liste qui ont un 'y' en seconde position: tywin,tyrion\n"
     ]
    }
   ],
   "source": [
    "print('Les mots de la liste qui ont un \\'y\\' en seconde position:', ','.join(res_2))"
   ]
  }
 ],
 "metadata": {
  "kernelspec": {
   "display_name": "Python 3 (ipykernel)",
   "language": "python",
   "name": "python3"
  },
  "language_info": {
   "codemirror_mode": {
    "name": "ipython",
    "version": 3
   },
   "file_extension": ".py",
   "mimetype": "text/x-python",
   "name": "python",
   "nbconvert_exporter": "python",
   "pygments_lexer": "ipython3",
   "version": "3.9.12"
  }
 },
 "nbformat": 4,
 "nbformat_minor": 5
}
